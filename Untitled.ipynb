{
 "cells": [
  {
   "cell_type": "code",
   "execution_count": 8,
   "id": "efb7ec7e",
   "metadata": {},
   "outputs": [
    {
     "data": {
      "text/plain": [
       "0.6367118880352299"
      ]
     },
     "execution_count": 8,
     "metadata": {},
     "output_type": "execute_result"
    }
   ],
   "source": [
    "import math as m\n",
    "(m.atan((3*m.sqrt(3))/4) - m.atan((-m.sqrt(3))/4))*10/(12*m.sqrt(3))"
   ]
  },
  {
   "cell_type": "code",
   "execution_count": 16,
   "id": "e5f558ff",
   "metadata": {},
   "outputs": [],
   "source": [
    "a = 2*m.atan((m.sqrt(3)/2))"
   ]
  },
  {
   "cell_type": "code",
   "execution_count": 18,
   "id": "98185d8a",
   "metadata": {},
   "outputs": [
    {
     "name": "stdout",
     "output_type": "stream",
     "text": [
      "0.6867816038515981\n"
     ]
    }
   ],
   "source": [
    "a=5/(m.sqrt(3)*6)*a\n",
    "print(a)"
   ]
  },
  {
   "cell_type": "code",
   "execution_count": null,
   "id": "66593cbb",
   "metadata": {},
   "outputs": [],
   "source": []
  }
 ],
 "metadata": {
  "kernelspec": {
   "display_name": "Python 3 (ipykernel)",
   "language": "python",
   "name": "python3"
  },
  "language_info": {
   "codemirror_mode": {
    "name": "ipython",
    "version": 3
   },
   "file_extension": ".py",
   "mimetype": "text/x-python",
   "name": "python",
   "nbconvert_exporter": "python",
   "pygments_lexer": "ipython3",
   "version": "3.9.13"
  }
 },
 "nbformat": 4,
 "nbformat_minor": 5
}
